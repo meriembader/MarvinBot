{
 "cells": [
  {
   "cell_type": "code",
   "execution_count": 1,
   "metadata": {
    "slideshow": {
     "slide_type": "-"
    }
   },
   "outputs": [],
   "source": [
    "# import io\n",
    "import random\n",
    "import string # to process standard python strings\n",
    "import warnings\n",
    "import pandas as pd\n",
    "import numpy as np\n",
    "from sklearn.feature_extraction.text import TfidfVectorizer\n",
    "from sklearn.metrics.pairwise import cosine_similarity\n",
    "import warnings\n",
    "warnings.filterwarnings('ignore')\n",
    "\n",
    "import nltk\n",
    "from nltk.tokenize import sent_tokenize\n",
    "from nltk.corpus import stopwords\n",
    "from nltk.tokenize import word_tokenize\n",
    "from nltk.stem import WordNetLemmatizer\n",
    "from nltk.stem import PorterStemmer\n",
    "\n",
    "# sklearn imports\n",
    "from sklearn.model_selection import train_test_split\n",
    "from sklearn.feature_extraction.text import TfidfVectorizer\n",
    "from sklearn.naive_bayes import MultinomialNB\n",
    "from sklearn import metrics\n",
    "\n",
    "# pandas\n",
    "import pandas as pd\n",
    "\n",
    "# python imports\n",
    "import re\n",
    "import json\n",
    "from collections import Counter\n",
    "from matplotlib import pyplot as plt\n",
    "\n",
    "# Visualization\n",
    "import seaborn as sns\n",
    "import matplotlib.pyplot as plt\n",
    "from sklearn import feature_extraction, linear_model, model_selection, preprocessing\n",
    "import plotly.graph_objs as go\n",
    "import plotly.offline as py\n",
    "import plotly.express as px\n",
    "\n",
    "import matplotlib.animation as animation\n",
    "from matplotlib.widgets import Slider\n"
   ]
  },
  {
   "cell_type": "code",
   "execution_count": 2,
   "metadata": {
    "scrolled": true
   },
   "outputs": [],
   "source": [
    "#pip install wordcloud"
   ]
  },
  {
   "cell_type": "code",
   "execution_count": 3,
   "metadata": {
    "scrolled": true
   },
   "outputs": [],
   "source": [
    "#import sys\n",
    "#print(sys.executable) resulat C:\\ProgramData\\Anaconda3\\python.exe n'importe quoi\n",
    "from wordcloud import WordCloud, STOPWORDS\n",
    "import matplotlib.pyplot as plt\n",
    "from tqdm import tqdm_notebook\n",
    "\n",
    "import matplotlib.patches as patches\n",
    "from matplotlib import rc\n",
    "from mpl_toolkits.mplot3d import Axes3D\n",
    "from sklearn.preprocessing import StandardScaler\n",
    "\n",
    "rc('animation', html='jshtml')\n",
    "stopwords = set(STOPWORDS)\n",
    "\n",
    "\n",
    "import pickle"
   ]
  },
  {
   "cell_type": "code",
   "execution_count": 4,
   "metadata": {},
   "outputs": [],
   "source": [
    "import os "
   ]
  },
  {
   "cell_type": "code",
   "execution_count": 5,
   "metadata": {},
   "outputs": [],
   "source": [
    "for dirname, _, filenames in os.walk('/kaggle/input'):\n",
    "    for filename in filenames:\n",
    "        print(os.path.join(dirname, filename))"
   ]
  },
  {
   "cell_type": "code",
   "execution_count": 6,
   "metadata": {},
   "outputs": [],
   "source": [
    "#pip install nltk"
   ]
  },
  {
   "cell_type": "code",
   "execution_count": 7,
   "metadata": {},
   "outputs": [],
   "source": [
    "#pip install nltk"
   ]
  },
  {
   "cell_type": "code",
   "execution_count": 8,
   "metadata": {
    "scrolled": true
   },
   "outputs": [
    {
     "data": {
      "text/plain": [
       "True"
      ]
     },
     "execution_count": 8,
     "metadata": {},
     "output_type": "execute_result"
    }
   ],
   "source": [
    "#from nltk.stem import WordNetLemmatizer\n",
    "nltk.download('popular', quiet=True) # for downloading packages\n",
    "#nltk.download('punkt') # first-time use only\n",
    "#nltk.download('wordnet') # first-time use only"
   ]
  },
  {
   "cell_type": "code",
   "execution_count": 9,
   "metadata": {
    "scrolled": true
   },
   "outputs": [
    {
     "data": {
      "text/plain": [
       "'\\'a chatbot (also known as a talkbot, chatterbot, bot, im bot, interactive agent, or artificial conversational entity) is a computer program or an artificial intelligence which conducts a conversation via auditory or textual methods. such programs are often designed to convincingly simulate how a human would behave as a conversational partner, thereby passing the turing test. chatbots are typically used in dialog systems for various practical purposes including customer service or information acquisition. some chatterbots use sophisticated natural language processing systems, but many simpler systems scan for keywords within the input, then pull a reply with the most matching keywords, or the most similar wording pattern, from a database.\\\\n\\\\nthe term \"chatterbot\" was originally coined by michael mauldin (creator of the first verbot, julia) in 1994 to describe these conversational programs.today, most chatbots are either accessed via virtual assistants such as google assistant and amazon alexa, via messaging apps such as facebook messenger or wechat, or via individual organizations\\\\\\' apps and websites. chatbots can be classified into usage categories such as conversational commerce (e-commerce via chat), analytics, communication, customer support, design, developer tools, education, entertainment, finance, food, games, health, hr, marketing, news, personal, productivity, shopping, social, sports, travel and utilities.\\\\nbackground\\\\nin 1950, alan turing\\\\\\'s famous article \"computing machinery and intelligence\" was published, which proposed what is now called the turing test as a criterion of intelligence. this criterion depends on the ability of a computer program to impersonate a human in a real-time written conversation with a human judge, sufficiently well that the judge is unable to distinguish reliablyon the basis of the conversational content alonebetween the program and a real human. the notoriety of turing\\\\\\'s proposed test stimulated great interest in joseph weizenbaum\\\\\\'s program eliza, published in 1966, which seemed to be able to fool users into believing that they were conversing with a real human. however weizenbaum himself did not claim that eliza was genuinely intelligent, and the introduction to his paper presented it more as a debunking exercise:\\\\n\\\\n[in] artificial intelligence ... machines are made to behave in wondrous ways, often sufficient to dazzle even the most experienced observer. but once a particular program is unmasked, once its inner workings are explained ... its magic crumbles away; it stands revealed as a mere collection of procedures ... the observer says to himself \"i could have written that\". with that thought he moves the program in question from the shelf marked \"intelligent\", to that reserved for curios ... the object of this paper is to cause just such a re-evaluation of the program about to be \"explained\". few programs ever needed it more.\\\\n\\\\neliza\\\\\\'s key method of operation (copied by chatbot designers ever since) involves the recognition of cue words or phrases in the input, and the output of corresponding pre-prepared or pre-programmed responses that can move the conversation forward in an apparently meaningful way (e.g. by responding to any input that contains the word \\\\\\'mother\\\\\\' with \\\\\\'tell me more about your family\\\\\\').thus an illusion of understanding is generated, even though the processing involved has been merely superficial. eliza showed that such an illusion is surprisingly easy to generate, because human judges are so ready to give the benefit of the doubt when conversational responses are capable of being interpreted as \"intelligent\".\\\\n\\\\ninterface designers have come to appreciate that humans\\\\\\' readiness to interpret computer output as genuinely conversationaleven when it is actually based on rather simple pattern-matchingcan be exploited for useful purposes. most people prefer to engage with programs that are human-like, and this gives chatbot-style techniques a potentially useful role in interactive systems that need to elicit information from users, as long as that information is relatively straightforward and falls into predictable categories. thus, for example, online help systems can usefully employ chatbot techniques to identify the area of help that users require, potentially providing a \"friendlier\" interface than a more formal search or menu system. this sort of usage holds the prospect of moving chatbot technology from weizenbaum\\\\\\'s \"shelf ... reserved for curios\" to that marked \"genuinely useful computational methods\".\\\\n\\\\ndevelopment\\\\nthe classic historic early chatbots are eliza (1966) and parry (1972).more recent notable programs include a.l.i.c.e., jabberwacky and d.u.d.e (agence nationale de la recherche and cnrs 2006). while eliza and parry were used exclusively to simulate typed conversation, many chatbots now include functional features such as games and web searching abilities. in 1984, a book called the policeman\\\\\\'s beard is half constructed was published, allegedly written by the chatbot racter (though the program as released would not have been capable of doing so).\\\\n\\\\none pertinent field of ai research is natural language processing. usually, weak ai fields employ specialized software or programming languages created specifically for the narrow function required. for example, a.l.i.c.e. uses a markup language called aiml, which is specific to its function as a conversational agent, and has since been adopted by various other developers of, so called, alicebots. nevertheless, a.l.i.c.e. is still purely based on pattern matching techniques without any reasoning capabilities, the same technique eliza was using back in 1966. this is not strong ai, which would require sapience and logical reasoning abilities.\\\\n\\\\njabberwacky learns new responses and context based on real-time user interactions, rather than being driven from a static database. some more recent chatbots also combine real-time learning with evolutionary algorithms that optimise their ability to communicate based on each conversation held. still, there is currently no general purpose conversational artificial intelligence, and some software developers focus on the practical aspect, information retrieval.\\\\n\\\\nchatbot competitions focus on the turing test or more specific goals. two such annual contests are the loebner prize and the chatterbox challenge (offline since 2015, materials can still be found from web archives).\\\\n\\\\naccording to forrester (2015), ai will replace 16 percent of american jobs by the end of the decade.chatbots have been used in applications such as customer service, sales and product education. however, a study conducted by narrative science in 2015 found that 80 percent of their respondents believe ai improves worker performance and creates jobs.[citation needed]\\\\n\\\\napplication\\\\nsee also: virtual assistant\\\\n\\\\naeromexico airline chatbot running on facebook messenger, march 2018\\\\nmessaging apps\\\\nmany companies\\\\\\' chatbots run on messaging apps like facebook messenger (since 2016), wechat (since 2013),whatsapp, livechat, kik, slack, line, telegram, or simply via sms. they are used for b2c customer service, sales and marketing.\\\\n\\\\nin 2016, facebook messenger allowed developers to place chatbots on their platform. there were 30,000 bots created for messenger in the first six months, rising to 100,000 by september 2017.\\\\n\\\\nsince september 2017, this has also been as part of a pilot program on whatsapp. airlines klm and aeromxico both announced their participation in the testing;both airlines had previously launched customer services on the facebook messenger platform.\\\\n\\\\nthe bots usually appear as one of the user\\\\\\'s contacts, but can sometimes act as participants in a group chat.\\\\n\\\\nmany banks and insurers, media and e-commerce companies, airlines and hotel chains, retailers, health care providers, government entities and restaurant chains have used chatbots to answer simple questions, increase customer engagement,for promotion, and to offer additional ways to order from them.\\\\n\\\\na 2017 study showed 4% of companies used chatbots.according to a 2016 study, 80% of businesses said they intended to have one by 2020.\\\\n\\\\nas part of company apps and websites\\\\nprevious generations of chatbots were present on company websites, e.g. ask jenn from alaska airlines which debuted in 2008 or expedia\\\\\\'s virtual customer service agent which launched in 2011.the newer generation of chatbots includes ibm watson-powered \"rocky\", introduced in february 2017 by the new york city-based e-commerce company rare carat to provide information to prospective diamond buyers.\\\\n\\\\ncompany internal platforms\\\\nother companies explore ways they can use chatbots internally, for example for customer support, human resources, or even in internet-of-things (iot) projects. overstock.com, for one, has reportedly launched a chatbot named mila to automate certain simple yet time-consuming processes when requesting for a sick leave.other large companies such as lloyds banking group, royal bank of scotland, renault and citron are now using automated online assistants instead of call centres with humans to provide a first point of contact. a saas chatbot business ecosystem has been steadily growing since the f8 conference when zuckerberg unveiled that messenger would allow chatbots into the app.\\\\n\\\\ntoys\\\\nchatbots have also been incorporated into devices not primarily meant for computing such as toys.\\\\n\\\\nhello barbie is an internet-connected version of the doll that uses a chatbot provided by the company toytalk,which previously used the chatbot for a range of smartphone-based characters for children.these characters\\\\\\' behaviors are constrained by a set of rules that in effect emulate a particular character and produce a storyline.\\\\n\\\\nibm\\\\\\'s watson computer has been used as the basis for chatbot-based educational toys for companies such as cognitoys intended to interact with children for educational purposes.\\\\n\\\\nchatbot creation\\\\nthe process of creating a chatbot follows a pattern similar to the development of a web page or a mobile app. it can be divided into design, building, analytics and maintenance.\\\\n\\\\ndesign\\\\nthe chatbot design is the process that defines the interaction between the user and the chatbot.the chatbot designer will define the chatbot personality, the questions that will be asked to the users, and the overall interaction.it can be viewed as a subset of the conversational design. in order to speed up this process, designers can use dedicated chatbot design tools, that allow for immediate preview, team collaboration and video export.an important part of the chatbot design is also centered around user testing. user testing can be performed following the same principles that guide the user testing of graphical interfaces.\\\\n\\\\nbuilding\\\\nthe process of building a chatbot can be divided into two main tasks: understanding the user\\\\\\'s intent and producing the correct answer. the first task involves understanding the user input. in order to properly understand a user input in a free text form, a natural language processing engine can be used.the second task may involve different approaches depending on the type of the response that the chatbot will generate.\\\\n\\\\nanalytics\\\\nthe usage of the chatbot can be monitored in order to spot potential flaws or problems. it can also provide useful insights that can improve the final user experience.\\\\n\\\\nmaintenance\\\\nto keep chatbots up to speed with changing company products and services, traditional chatbot development platforms require ongoing maintenance. this can either be in the form of an ongoing service provider or for larger enterprises in the form of an in-house chatbot training team.to eliminate these costs, some startups are experimenting with artificial intelligence to develop self-learning chatbots, particularly in customer service applications.\\\\n\\\\nchatbot development platforms\\\\nthe process of building, testing and deploying chatbots can be done on cloud based chatbot development platforms offered by cloud platform as a service (paas) providers such as yekaliva, oracle cloud platform, snatchbot and ibm watson.these cloud platforms provide natural language processing, artificial intelligence and mobile backend as a service for chatbot development.\\\\n\\\\napis\\\\nthere are many apis available for building your own chatbots, such as aarc.\\\\n\\\\nmalicious use\\\\nmalicious chatbots are frequently used to fill chat rooms with spam and advertisements, by mimicking human behaviour and conversations or to entice people into revealing personal information, such as bank account numbers. they are commonly found on yahoo! messenger, windows live messenger, aol instant messenger and other instant messaging protocols. there has also been a published report of a chatbot used in a fake personal ad on a dating service\\\\\\'s website.\\'\\n'"
      ]
     },
     "execution_count": 9,
     "metadata": {},
     "output_type": "execute_result"
    }
   ],
   "source": [
    "f= open('chatbot.txt', 'r', errors= 'ignore')\n",
    "        #f= pd.read_fwf('chatbot.txt', delimter= \"\\t\")\n",
    "    \n",
    "raw= f.read()\n",
    "raw= raw.lower()\n",
    "raw"
   ]
  },
  {
   "cell_type": "code",
   "execution_count": 10,
   "metadata": {},
   "outputs": [],
   "source": [
    "raw =\"\"\"How dangerous is the coronavirus Covid-19 is deadly, although fatality rates skyrocket for the elderly and those with compromised immune systems.How has the coronavirus affected you Well if you ask me personally, the outbreak of novel Coronavirus, has affected me significantly. Both in respect of career and in respect of mental health. Is there a treatment for the Coronavirus They are experimenting with various medicines and it seems some anti-malarial drugs show promise. However, they help only a little bit, as evidenced by the mortality rate in places like Italy or Spain. They are best if administered early, before the lungs are damaged. Is there a vaccine for the coronavirus We don’t “find” vaccines. That’s the language yellow media uses, but it’s far from the truth.\n",
    "We know the virus, and we know what it looks like. Now we need to produce a sufficient amount of attenuated virii. For that, we inject the virus into a foreign host, like a chicken embryo in an egg. Most viruses will die, because the host is so different from humans, that it can not work. Some will mutate to work, and those multiply.How did coronaviruses get their name The coronavirus family was discovered first in 1960s but we don’t know where they come from. They get the name given their crown-like (“corona”) shape. Following a December 2019 outbreak in China, the World Health Organization identified a new type called 2019 novel coronavirus (2019-nCoV).What are coronaviruses Coronavirus is a name for a group of viruses that target mammals, including cats, dogs, and humans. They’re well known for causing potentially fatal conditions like kidney failure, pneumonia but also mundane things like some instances of the common cold.\n",
    "Does coronavirus cause death Statistically speaking, you have a 98% chance of survival, and 80% chance that you won’t need medical care at all even if you get infected, so stay positive, stay at home as much as possible, eat healthy, treat everyone as if they are infected, treat other as if you are infected. Many people get infected and get better without even knowing they had it.What can one do to prepare for the coronavirus? What should one buy or do regularly So, one thing you might do before it hits your region is to buy enough food for your freezer as well as canned goods and stock it so that, when the Virus hits, you won’t be running out into a store crowded with infected people. When it hits, stay home for work and school and strictly avoid crowded places. Stock up on real bar soap (like Ivory Gold) and wash hands frequently. Avoid sanitizers. Try to avoid clinics or EDs unless your symptoms become an issue as you don’t want to spread the disease beyond your home. Stock up on jello, G-Zero, plain decongestants like Mucinex, Bouillon or clear soups, lots of Kleenex and avoid solids and dairy products while you are symptomatic. The rest is just common sense.What should I buy to prepare for a coronavirus epidemic if I had to stay in my home for a very long time So, one thing you might do before it hits your region is to buy enough food for your freezer as well as canned goods and stock it so that, when the Virus hits, you won’t be running out into a store crowded with infected people. When it hits, stay home for work and school and strictly avoid crowded places. Stock up on real bar soap (like Ivory Gold) and wash hands frequently. Avoid sanitizers. Try to avoid clinics or EDs unless your symptoms become an issue as you don’t want to spread the disease beyond your home. Stock up on jello, G-Zero, plain decongestants like Mucinex, Bouillon or clear soups, lots of Kleenex and avoid solids and dairy products while you are symptomatic. The rest is just common sense.\n",
    "What are the symptoms of Coronavirus The symptoms of this virus include high fever, respiratory problems, shortness of breath and coughing. In extreme cases, it can even lead to pneumonia, kidney failure and death.To prevent infection from spreading, one should wash hands regularly, cover mouth and nose while coughing and sneezing and eat properly cook meat and eggs.\"\"\""
   ]
  },
  {
   "cell_type": "code",
   "execution_count": 11,
   "metadata": {},
   "outputs": [],
   "source": [
    "sent_tokens = nltk.sent_tokenize(raw)# converts to list of sentences \n",
    "word_tokens = nltk.word_tokenize(raw)# converts to list of words"
   ]
  },
  {
   "cell_type": "code",
   "execution_count": 12,
   "metadata": {},
   "outputs": [],
   "source": [
    "lemmer = nltk.stem.WordNetLemmatizer()\n",
    "#WordNet is a semantically-oriented dictionary of English included in NLTK.\n",
    "def LemTokens(tokens):\n",
    "    return [lemmer.lemmatize(token) for token in tokens]\n",
    "remove_punct_dict = dict((ord(punct), None) for punct in string.punctuation)\n",
    "\n",
    "def LemNormalize(text):\n",
    "    return LemTokens(nltk.word_tokenize(text.lower().translate(remove_punct_dict)))"
   ]
  },
  {
   "cell_type": "code",
   "execution_count": 13,
   "metadata": {},
   "outputs": [],
   "source": [
    "GREETING_INPUTS = (\"hello\", \"hi\", \"greetings\", \"sup\" , \"what's up\",\"hey\", \"hi Babe\", \"how are you?\")\n",
    "GREETING_RESPONSES = [\"hi\", \"hey\" ,\"*nods*\", \"hi there\",\"hello\", \"I am glad! You are talking to me\",\"Thanks for asking\"]\n",
    "def greeting(sentence):\n",
    " \n",
    "    for word in sentence.split():\n",
    "        if word.lower() in GREETING_INPUTS:\n",
    "            return random.choice(GREETING_RESPONSES)"
   ]
  },
  {
   "cell_type": "code",
   "execution_count": 14,
   "metadata": {},
   "outputs": [],
   "source": [
    "#generation des reponse 3la dhalin amin :()"
   ]
  },
  {
   "cell_type": "code",
   "execution_count": 15,
   "metadata": {},
   "outputs": [],
   "source": [
    "def response(user_response):\n",
    "    robo_response=''\n",
    "    sent_tokens.append(user_response)\n",
    "    TfidfVec = TfidfVectorizer(tokenizer=LemNormalize, stop_words='english')\n",
    "    tfidf = TfidfVec.fit_transform(sent_tokens)\n",
    "    vals = cosine_similarity(tfidf[-1], tfidf)\n",
    "    idx=vals.argsort()[0][-2]\n",
    "    flat = vals.flatten()\n",
    "    flat.sort()\n",
    "    req_tfidf = flat[-2]\n",
    "    if(req_tfidf==0):\n",
    "        robo_response=robo_response+\"I am sorry! I don't understand you\"\n",
    "        return robo_response\n",
    "    else:\n",
    "        robo_response = robo_response+sent_tokens[idx]\n",
    "        return robo_response"
   ]
  },
  {
   "cell_type": "code",
   "execution_count": 16,
   "metadata": {
    "scrolled": true
   },
   "outputs": [
    {
     "name": "stdout",
     "output_type": "stream",
     "text": [
      "ROBOTINO: My name is Robo. I will answer your queries about Chatbots. If you want to exit, type Bye!\n",
      "bye\n",
      "ROBOTINO: Bye! take care..\n"
     ]
    }
   ],
   "source": [
    "flag=True\n",
    "print(\"ROBOTINO: My name is Robo. I will answer your queries about Chatbots. If you want to exit, type Bye!\")\n",
    "while(flag==True):\n",
    "    user_response = input()\n",
    "    user_response=user_response.lower()\n",
    "    if(user_response!='bye'):\n",
    "        if(user_response=='thanks' or user_response=='thank you' ):\n",
    "            flag=False\n",
    "            print(\"ROBOTINO: You are welcome..\")\n",
    "        else:\n",
    "            if(greeting(user_response)!=None):\n",
    "                print(\"ROBOTINO: \"+greeting(user_response))\n",
    "            else:\n",
    "                print(\"ROBOTINO: \",end=\"\")\n",
    "                print(response(user_response))\n",
    "                sent_tokens.remove(user_response)\n",
    "    else:\n",
    "        flag=False\n",
    "        print(\"ROBOTINO: Bye! take care..\")"
   ]
  },
  {
   "cell_type": "code",
   "execution_count": 17,
   "metadata": {},
   "outputs": [],
   "source": [
    "#pip install allennlp"
   ]
  },
  {
   "cell_type": "code",
   "execution_count": 18,
   "metadata": {},
   "outputs": [],
   "source": [
    "#!pip install torch===1.4.0 torchvision===0.5.0 -f https://download.pytorch.org/whl/torch_stable.html"
   ]
  },
  {
   "cell_type": "code",
   "execution_count": 19,
   "metadata": {},
   "outputs": [],
   "source": [
    "#pip install allennlp==0.4.2"
   ]
  },
  {
   "cell_type": "code",
   "execution_count": 20,
   "metadata": {},
   "outputs": [],
   "source": [
    "#pip install https://download.pytorch.org/whl/cu101/torch-1.4.0-cp38-cp38-win_amd64.whl\n"
   ]
  },
  {
   "cell_type": "code",
   "execution_count": 21,
   "metadata": {},
   "outputs": [
    {
     "name": "stdout",
     "output_type": "stream",
     "text": [
      "Requirement already satisfied: allennlp in c:\\programdata\\anaconda3\\lib\\site-packages (2.0.1)\n",
      "Requirement already satisfied: scikit-learn in c:\\programdata\\anaconda3\\lib\\site-packages (from allennlp) (0.22.1)\n",
      "Requirement already satisfied: numpy in c:\\programdata\\anaconda3\\lib\\site-packages (from allennlp) (1.18.1)\n",
      "Requirement already satisfied: transformers<4.3,>=4.1 in c:\\programdata\\anaconda3\\lib\\site-packages (from allennlp) (4.2.2)\n",
      "Requirement already satisfied: torchvision<0.9.0,>=0.8.1 in c:\\programdata\\anaconda3\\lib\\site-packages (from allennlp) (0.8.1)\n",
      "Requirement already satisfied: more-itertools in c:\\programdata\\anaconda3\\lib\\site-packages (from allennlp) (8.2.0)\n",
      "Requirement already satisfied: pytest in c:\\programdata\\anaconda3\\lib\\site-packages (from allennlp) (5.3.5)\n",
      "Requirement already satisfied: sentencepiece in c:\\programdata\\anaconda3\\lib\\site-packages (from allennlp) (0.1.95)\n",
      "Requirement already satisfied: nltk in c:\\programdata\\anaconda3\\lib\\site-packages (from allennlp) (3.4.5)\n",
      "Requirement already satisfied: jsonpickle in c:\\programdata\\anaconda3\\lib\\site-packages (from allennlp) (2.0.0)\n",
      "Requirement already satisfied: torch<1.8.0,>=1.6.0 in c:\\programdata\\anaconda3\\lib\\site-packages (from allennlp) (1.7.1)\n",
      "Requirement already satisfied: filelock<3.1,>=3.0 in c:\\programdata\\anaconda3\\lib\\site-packages (from allennlp) (3.0.12)\n",
      "Requirement already satisfied: requests>=2.18 in c:\\programdata\\anaconda3\\lib\\site-packages (from allennlp) (2.22.0)\n",
      "Requirement already satisfied: spacy<2.4,>=2.1.0 in c:\\programdata\\anaconda3\\lib\\site-packages (from allennlp) (2.3.5)\n",
      "Requirement already satisfied: overrides==3.1.0 in c:\\programdata\\anaconda3\\lib\\site-packages (from allennlp) (3.1.0)\n",
      "Requirement already satisfied: h5py in c:\\programdata\\anaconda3\\lib\\site-packages (from allennlp) (2.10.0)\n",
      "Requirement already satisfied: boto3<2.0,>=1.14 in c:\\programdata\\anaconda3\\lib\\site-packages (from allennlp) (1.17.7)\n",
      "Requirement already satisfied: tqdm>=4.19 in c:\\programdata\\anaconda3\\lib\\site-packages (from allennlp) (4.42.1)\n",
      "Requirement already satisfied: tensorboardX>=1.2 in c:\\programdata\\anaconda3\\lib\\site-packages (from allennlp) (2.1)\n",
      "Requirement already satisfied: scipy in c:\\programdata\\anaconda3\\lib\\site-packages (from allennlp) (1.4.1)\n",
      "Requirement already satisfied: lmdb in c:\\programdata\\anaconda3\\lib\\site-packages (from allennlp) (1.1.1)\n",
      "Requirement already satisfied: joblib>=0.11 in c:\\programdata\\anaconda3\\lib\\site-packages (from scikit-learn->allennlp) (0.14.1)\n",
      "Requirement already satisfied: tokenizers==0.9.4 in c:\\programdata\\anaconda3\\lib\\site-packages (from transformers<4.3,>=4.1->allennlp) (0.9.4)\n",
      "Requirement already satisfied: sacremoses in c:\\programdata\\anaconda3\\lib\\site-packages (from transformers<4.3,>=4.1->allennlp) (0.0.43)\n",
      "Requirement already satisfied: regex!=2019.12.17 in c:\\programdata\\anaconda3\\lib\\site-packages (from transformers<4.3,>=4.1->allennlp) (2020.11.13)\n",
      "Requirement already satisfied: importlib-metadata; python_version < \"3.8\" in c:\\programdata\\anaconda3\\lib\\site-packages (from transformers<4.3,>=4.1->allennlp) (1.5.0)\n",
      "Requirement already satisfied: packaging in c:\\programdata\\anaconda3\\lib\\site-packages (from transformers<4.3,>=4.1->allennlp) (20.1)\n",
      "Requirement already satisfied: pillow>=4.1.1 in c:\\programdata\\anaconda3\\lib\\site-packages (from torchvision<0.9.0,>=0.8.1->allennlp) (7.0.0)\n",
      "Requirement already satisfied: py>=1.5.0 in c:\\programdata\\anaconda3\\lib\\site-packages (from pytest->allennlp) (1.8.1)\n",
      "Requirement already satisfied: attrs>=17.4.0 in c:\\programdata\\anaconda3\\lib\\site-packages (from pytest->allennlp) (19.3.0)\n",
      "Requirement already satisfied: pluggy<1.0,>=0.12 in c:\\programdata\\anaconda3\\lib\\site-packages (from pytest->allennlp) (0.13.1)\n",
      "Requirement already satisfied: wcwidth in c:\\programdata\\anaconda3\\lib\\site-packages (from pytest->allennlp) (0.1.8)\n",
      "Requirement already satisfied: atomicwrites>=1.0 in c:\\programdata\\anaconda3\\lib\\site-packages (from pytest->allennlp) (1.3.0)\n",
      "Requirement already satisfied: colorama in c:\\programdata\\anaconda3\\lib\\site-packages (from pytest->allennlp) (0.4.3)\n",
      "Requirement already satisfied: six in c:\\programdata\\anaconda3\\lib\\site-packages (from nltk->allennlp) (1.14.0)\n",
      "Requirement already satisfied: typing-extensions in c:\\programdata\\anaconda3\\lib\\site-packages (from torch<1.8.0,>=1.6.0->allennlp) (3.7.4.3)\n",
      "Requirement already satisfied: idna<2.9,>=2.5 in c:\\programdata\\anaconda3\\lib\\site-packages (from requests>=2.18->allennlp) (2.8)\n",
      "Requirement already satisfied: urllib3!=1.25.0,!=1.25.1,<1.26,>=1.21.1 in c:\\programdata\\anaconda3\\lib\\site-packages (from requests>=2.18->allennlp) (1.25.8)\n",
      "Requirement already satisfied: chardet<3.1.0,>=3.0.2 in c:\\programdata\\anaconda3\\lib\\site-packages (from requests>=2.18->allennlp) (3.0.4)\n",
      "Requirement already satisfied: certifi>=2017.4.17 in c:\\programdata\\anaconda3\\lib\\site-packages (from requests>=2.18->allennlp) (2019.11.28)\n",
      "Requirement already satisfied: srsly<1.1.0,>=1.0.2 in c:\\programdata\\anaconda3\\lib\\site-packages (from spacy<2.4,>=2.1.0->allennlp) (1.0.5)\n",
      "Requirement already satisfied: cymem<2.1.0,>=2.0.2 in c:\\programdata\\anaconda3\\lib\\site-packages (from spacy<2.4,>=2.1.0->allennlp) (2.0.5)\n",
      "Requirement already satisfied: catalogue<1.1.0,>=0.0.7 in c:\\programdata\\anaconda3\\lib\\site-packages (from spacy<2.4,>=2.1.0->allennlp) (1.0.0)\n",
      "Requirement already satisfied: thinc<7.5.0,>=7.4.1 in c:\\programdata\\anaconda3\\lib\\site-packages (from spacy<2.4,>=2.1.0->allennlp) (7.4.5)\n",
      "Requirement already satisfied: blis<0.8.0,>=0.4.0 in c:\\programdata\\anaconda3\\lib\\site-packages (from spacy<2.4,>=2.1.0->allennlp) (0.7.4)\n",
      "Requirement already satisfied: setuptools in c:\\programdata\\anaconda3\\lib\\site-packages (from spacy<2.4,>=2.1.0->allennlp) (45.2.0.post20200210)\n",
      "Requirement already satisfied: plac<1.2.0,>=0.9.6 in c:\\programdata\\anaconda3\\lib\\site-packages (from spacy<2.4,>=2.1.0->allennlp) (1.1.3)\n",
      "Requirement already satisfied: murmurhash<1.1.0,>=0.28.0 in c:\\programdata\\anaconda3\\lib\\site-packages (from spacy<2.4,>=2.1.0->allennlp) (1.0.5)\n",
      "Requirement already satisfied: preshed<3.1.0,>=3.0.2 in c:\\programdata\\anaconda3\\lib\\site-packages (from spacy<2.4,>=2.1.0->allennlp) (3.0.5)\n",
      "Requirement already satisfied: wasabi<1.1.0,>=0.4.0 in c:\\programdata\\anaconda3\\lib\\site-packages (from spacy<2.4,>=2.1.0->allennlp) (0.8.2)\n",
      "Requirement already satisfied: s3transfer<0.4.0,>=0.3.0 in c:\\programdata\\anaconda3\\lib\\site-packages (from boto3<2.0,>=1.14->allennlp) (0.3.4)\n",
      "Requirement already satisfied: botocore<1.21.0,>=1.20.7 in c:\\programdata\\anaconda3\\lib\\site-packages (from boto3<2.0,>=1.14->allennlp) (1.20.7)\n",
      "Requirement already satisfied: jmespath<1.0.0,>=0.7.1 in c:\\programdata\\anaconda3\\lib\\site-packages (from boto3<2.0,>=1.14->allennlp) (0.10.0)\n",
      "Requirement already satisfied: protobuf>=3.8.0 in c:\\programdata\\anaconda3\\lib\\site-packages (from tensorboardX>=1.2->allennlp) (3.12.4)\n",
      "Requirement already satisfied: click in c:\\programdata\\anaconda3\\lib\\site-packages (from sacremoses->transformers<4.3,>=4.1->allennlp) (7.0)\n",
      "Requirement already satisfied: zipp>=0.5 in c:\\programdata\\anaconda3\\lib\\site-packages (from importlib-metadata; python_version < \"3.8\"->transformers<4.3,>=4.1->allennlp) (2.2.0)\n",
      "Requirement already satisfied: pyparsing>=2.0.2 in c:\\programdata\\anaconda3\\lib\\site-packages (from packaging->transformers<4.3,>=4.1->allennlp) (2.4.6)\n",
      "Requirement already satisfied: python-dateutil<3.0.0,>=2.1 in c:\\programdata\\anaconda3\\lib\\site-packages (from botocore<1.21.0,>=1.20.7->boto3<2.0,>=1.14->allennlp) (2.8.1)\n"
     ]
    }
   ],
   "source": [
    "!pip install allennlp"
   ]
  },
  {
   "cell_type": "code",
   "execution_count": 22,
   "metadata": {},
   "outputs": [],
   "source": [
    "from allennlp.predictors.predictor import Predictor\n"
   ]
  },
  {
   "cell_type": "code",
   "execution_count": 23,
   "metadata": {},
   "outputs": [],
   "source": [
    "#from allennlp.predictors.predictor import Predictor\n",
    "#predictor = Predictor.from_path(\"https://s3-us-west-2.amazonaws.com/allennlp/models/bidaf-model-2017.09.15-charpad.tar.gz\")"
   ]
  },
  {
   "cell_type": "code",
   "execution_count": 24,
   "metadata": {},
   "outputs": [
    {
     "name": "stderr",
     "output_type": "stream",
     "text": [
      "error loading _jsonnet (this is expected on Windows), treating C:\\wamp\\bin\\php\\PHP55~1.12\\ext\\php_intl.dll\\tmpalw7gplk\\config.json as plain json\n"
     ]
    },
    {
     "ename": "ConfigurationError",
     "evalue": "squad not in acceptable choices for dataset_reader.type: ['babi', 'conll2003', 'interleaving', 'multitask', 'sequence_tagging', 'sharded', 'text_classification_json', 'multitask_shim']. You should either use the --include-package flag to make sure the correct module is loaded, or use a fully qualified class name in your config file like {\"model\": \"my_module.models.MyModel\"} to have it imported automatically.",
     "output_type": "error",
     "traceback": [
      "\u001b[1;31m---------------------------------------------------------------------------\u001b[0m",
      "\u001b[1;31mConfigurationError\u001b[0m                        Traceback (most recent call last)",
      "\u001b[1;32m<ipython-input-24-7e5331859a1b>\u001b[0m in \u001b[0;36m<module>\u001b[1;34m\u001b[0m\n\u001b[1;32m----> 1\u001b[1;33m \u001b[0mpredictor\u001b[0m \u001b[1;33m=\u001b[0m \u001b[0mPredictor\u001b[0m\u001b[1;33m.\u001b[0m\u001b[0mfrom_path\u001b[0m\u001b[1;33m(\u001b[0m\u001b[1;34m\"https://s3-us-west-2.amazonaws.com/allennlp/models/bidaf-model-2017.09.15-charpad.tar.gz\"\u001b[0m\u001b[1;33m)\u001b[0m\u001b[1;33m\u001b[0m\u001b[1;33m\u001b[0m\u001b[0m\n\u001b[0m",
      "\u001b[1;32mC:\\ProgramData\\Anaconda3\\lib\\site-packages\\allennlp\\predictors\\predictor.py\u001b[0m in \u001b[0;36mfrom_path\u001b[1;34m(cls, archive_path, predictor_name, cuda_device, dataset_reader_to_load, frozen, import_plugins, overrides)\u001b[0m\n\u001b[0;32m    359\u001b[0m             \u001b[0mplugins\u001b[0m\u001b[1;33m.\u001b[0m\u001b[0mimport_plugins\u001b[0m\u001b[1;33m(\u001b[0m\u001b[1;33m)\u001b[0m\u001b[1;33m\u001b[0m\u001b[1;33m\u001b[0m\u001b[0m\n\u001b[0;32m    360\u001b[0m         return Predictor.from_archive(\n\u001b[1;32m--> 361\u001b[1;33m             \u001b[0mload_archive\u001b[0m\u001b[1;33m(\u001b[0m\u001b[0marchive_path\u001b[0m\u001b[1;33m,\u001b[0m \u001b[0mcuda_device\u001b[0m\u001b[1;33m=\u001b[0m\u001b[0mcuda_device\u001b[0m\u001b[1;33m,\u001b[0m \u001b[0moverrides\u001b[0m\u001b[1;33m=\u001b[0m\u001b[0moverrides\u001b[0m\u001b[1;33m)\u001b[0m\u001b[1;33m,\u001b[0m\u001b[1;33m\u001b[0m\u001b[1;33m\u001b[0m\u001b[0m\n\u001b[0m\u001b[0;32m    362\u001b[0m             \u001b[0mpredictor_name\u001b[0m\u001b[1;33m,\u001b[0m\u001b[1;33m\u001b[0m\u001b[1;33m\u001b[0m\u001b[0m\n\u001b[0;32m    363\u001b[0m             \u001b[0mdataset_reader_to_load\u001b[0m\u001b[1;33m=\u001b[0m\u001b[0mdataset_reader_to_load\u001b[0m\u001b[1;33m,\u001b[0m\u001b[1;33m\u001b[0m\u001b[1;33m\u001b[0m\u001b[0m\n",
      "\u001b[1;32mC:\\ProgramData\\Anaconda3\\lib\\site-packages\\allennlp\\models\\archival.py\u001b[0m in \u001b[0;36mload_archive\u001b[1;34m(archive_file, cuda_device, overrides, weights_file)\u001b[0m\n\u001b[0;32m    204\u001b[0m         \u001b[1;31m# Instantiate model and dataset readers. Use a duplicate of the config, as it will get consumed.\u001b[0m\u001b[1;33m\u001b[0m\u001b[1;33m\u001b[0m\u001b[1;33m\u001b[0m\u001b[0m\n\u001b[0;32m    205\u001b[0m         dataset_reader, validation_dataset_reader = _load_dataset_readers(\n\u001b[1;32m--> 206\u001b[1;33m             \u001b[0mconfig\u001b[0m\u001b[1;33m.\u001b[0m\u001b[0mduplicate\u001b[0m\u001b[1;33m(\u001b[0m\u001b[1;33m)\u001b[0m\u001b[1;33m,\u001b[0m \u001b[0mserialization_dir\u001b[0m\u001b[1;33m\u001b[0m\u001b[1;33m\u001b[0m\u001b[0m\n\u001b[0m\u001b[0;32m    207\u001b[0m         )\n\u001b[0;32m    208\u001b[0m         \u001b[0mmodel\u001b[0m \u001b[1;33m=\u001b[0m \u001b[0m_load_model\u001b[0m\u001b[1;33m(\u001b[0m\u001b[0mconfig\u001b[0m\u001b[1;33m.\u001b[0m\u001b[0mduplicate\u001b[0m\u001b[1;33m(\u001b[0m\u001b[1;33m)\u001b[0m\u001b[1;33m,\u001b[0m \u001b[0mweights_path\u001b[0m\u001b[1;33m,\u001b[0m \u001b[0mserialization_dir\u001b[0m\u001b[1;33m,\u001b[0m \u001b[0mcuda_device\u001b[0m\u001b[1;33m)\u001b[0m\u001b[1;33m\u001b[0m\u001b[1;33m\u001b[0m\u001b[0m\n",
      "\u001b[1;32mC:\\ProgramData\\Anaconda3\\lib\\site-packages\\allennlp\\models\\archival.py\u001b[0m in \u001b[0;36m_load_dataset_readers\u001b[1;34m(config, serialization_dir)\u001b[0m\n\u001b[0;32m    230\u001b[0m \u001b[1;33m\u001b[0m\u001b[0m\n\u001b[0;32m    231\u001b[0m     dataset_reader = DatasetReader.from_params(\n\u001b[1;32m--> 232\u001b[1;33m         \u001b[0mdataset_reader_params\u001b[0m\u001b[1;33m,\u001b[0m \u001b[0mserialization_dir\u001b[0m\u001b[1;33m=\u001b[0m\u001b[0mserialization_dir\u001b[0m\u001b[1;33m\u001b[0m\u001b[1;33m\u001b[0m\u001b[0m\n\u001b[0m\u001b[0;32m    233\u001b[0m     )\n\u001b[0;32m    234\u001b[0m     validation_dataset_reader = DatasetReader.from_params(\n",
      "\u001b[1;32mC:\\ProgramData\\Anaconda3\\lib\\site-packages\\allennlp\\common\\from_params.py\u001b[0m in \u001b[0;36mfrom_params\u001b[1;34m(cls, params, constructor_to_call, constructor_to_inspect, **extras)\u001b[0m\n\u001b[0;32m    579\u001b[0m                 \u001b[1;34m\"type\"\u001b[0m\u001b[1;33m,\u001b[0m\u001b[1;33m\u001b[0m\u001b[1;33m\u001b[0m\u001b[0m\n\u001b[0;32m    580\u001b[0m                 \u001b[0mchoices\u001b[0m\u001b[1;33m=\u001b[0m\u001b[0mas_registrable\u001b[0m\u001b[1;33m.\u001b[0m\u001b[0mlist_available\u001b[0m\u001b[1;33m(\u001b[0m\u001b[1;33m)\u001b[0m\u001b[1;33m,\u001b[0m\u001b[1;33m\u001b[0m\u001b[1;33m\u001b[0m\u001b[0m\n\u001b[1;32m--> 581\u001b[1;33m                 \u001b[0mdefault_to_first_choice\u001b[0m\u001b[1;33m=\u001b[0m\u001b[0mdefault_to_first_choice\u001b[0m\u001b[1;33m,\u001b[0m\u001b[1;33m\u001b[0m\u001b[1;33m\u001b[0m\u001b[0m\n\u001b[0m\u001b[0;32m    582\u001b[0m             )\n\u001b[0;32m    583\u001b[0m             \u001b[0msubclass\u001b[0m\u001b[1;33m,\u001b[0m \u001b[0mconstructor_name\u001b[0m \u001b[1;33m=\u001b[0m \u001b[0mas_registrable\u001b[0m\u001b[1;33m.\u001b[0m\u001b[0mresolve_class_name\u001b[0m\u001b[1;33m(\u001b[0m\u001b[0mchoice\u001b[0m\u001b[1;33m)\u001b[0m\u001b[1;33m\u001b[0m\u001b[1;33m\u001b[0m\u001b[0m\n",
      "\u001b[1;32mC:\\ProgramData\\Anaconda3\\lib\\site-packages\\allennlp\\common\\params.py\u001b[0m in \u001b[0;36mpop_choice\u001b[1;34m(self, key, choices, default_to_first_choice, allow_class_names)\u001b[0m\n\u001b[0;32m    350\u001b[0m                 \u001b[1;34m\"\"\"{\"model\": \"my_module.models.MyModel\"} to have it imported automatically.\"\"\"\u001b[0m\u001b[1;33m\u001b[0m\u001b[1;33m\u001b[0m\u001b[0m\n\u001b[0;32m    351\u001b[0m             )\n\u001b[1;32m--> 352\u001b[1;33m             \u001b[1;32mraise\u001b[0m \u001b[0mConfigurationError\u001b[0m\u001b[1;33m(\u001b[0m\u001b[0mmessage\u001b[0m\u001b[1;33m)\u001b[0m\u001b[1;33m\u001b[0m\u001b[1;33m\u001b[0m\u001b[0m\n\u001b[0m\u001b[0;32m    353\u001b[0m         \u001b[1;32mreturn\u001b[0m \u001b[0mvalue\u001b[0m\u001b[1;33m\u001b[0m\u001b[1;33m\u001b[0m\u001b[0m\n\u001b[0;32m    354\u001b[0m \u001b[1;33m\u001b[0m\u001b[0m\n",
      "\u001b[1;31mConfigurationError\u001b[0m: squad not in acceptable choices for dataset_reader.type: ['babi', 'conll2003', 'interleaving', 'multitask', 'sequence_tagging', 'sharded', 'text_classification_json', 'multitask_shim']. You should either use the --include-package flag to make sure the correct module is loaded, or use a fully qualified class name in your config file like {\"model\": \"my_module.models.MyModel\"} to have it imported automatically."
     ]
    }
   ],
   "source": [
    "predictor = Predictor.from_path(\"https://s3-us-west-2.amazonaws.com/allennlp/models/bidaf-model-2017.09.15-charpad.tar.gz\")"
   ]
  },
  {
   "cell_type": "code",
   "execution_count": null,
   "metadata": {},
   "outputs": [],
   "source": [
    "passage =\"\"\"How dangerous is the coronavirus?\n",
    "Covid-19 is deadly, although fatality rates skyrocket for the elderly and those with compromised immune systems.\n",
    "\n",
    "How has the coronavirus affected you?\n",
    "Well if you ask me personally, the outbreak of novel Coronavirus, has affected me significantly. Both in respect of career and in respect of mental health.\n",
    "\n",
    "Is there a treatment for the Coronavirus?\n",
    "They are experimenting with various medicines and it seems some anti-malarial drugs show promise. However, they help only a little bit, as evidenced by the mortality rate in places like Italy or Spain. They are best if administered early, before the lungs are damaged.\n",
    "\n",
    "Is there a vaccine for the coronavirus?\n",
    "We don’t “find” vaccines. That’s the language yellow media uses, but it’s far from the truth.\n",
    "We know the virus, and we know what it looks like. Now we need to produce a sufficient amount of attenuated virii. For that, we inject the virus into a foreign host, like a chicken embryo in an egg. Most viruses will die, because the host is so different from humans, that it can not work. Some will mutate to work, and those multiply.\n",
    "\n",
    "How did coronaviruses get their name?\n",
    "The coronavirus family was discovered first in 1960s but we don’t know where they come from. They get the name given their crown-like (“corona”) shape. Following a December 2019 outbreak in China, the World Health Organization identified a new type called 2019 novel coronavirus (2019-nCoV).\n",
    "\n",
    "What are coronaviruses?\n",
    "Coronavirus is a name for a group of viruses that target mammals, including cats, dogs, and humans. They’re well known for causing potentially fatal conditions like kidney failure, pneumonia but also mundane things like some instances of the common cold.\n",
    "\n",
    "\n",
    "Does coronavirus cause death?\n",
    "Statistically speaking, you have a 98% chance of survival, and 80% chance that you won’t need medical care at all even if you get infected, so stay positive, stay at home as much as possible, eat healthy, treat everyone as if they are infected, treat other as if you are infected. Many people get infected and get better without even knowing they had it.\n",
    " \n",
    "What can one do to prepare for the coronavirus? What should one buy or do regularly?\n",
    "So, one thing you might do before it hits your region is to buy enough food for your freezer as well as canned goods and stock it so that, when the Virus hits, you won’t be running out into a store crowded with infected people. When it hits, stay home for work and school and strictly avoid crowded places. Stock up on real bar soap (like Ivory Gold) and wash hands frequently. Avoid sanitizers. Try to avoid clinics or EDs unless your symptoms become an issue as you don’t want to spread the disease beyond your home. Stock up on jello, G-Zero, plain decongestants like Mucinex, Bouillon or clear soups, lots of Kleenex and avoid solids and dairy products while you are symptomatic. The rest is just common sense.\n",
    "\n",
    "What should I buy to prepare for a coronavirus epidemic if I had to stay in my home for a very long time?\n",
    "So, one thing you might do before it hits your region is to buy enough food for your freezer as well as canned goods and stock it so that, when the Virus hits, you won’t be running out into a store crowded with infected people. When it hits, stay home for work and school and strictly avoid crowded places. Stock up on real bar soap (like Ivory Gold) and wash hands frequently. Avoid sanitizers. Try to avoid clinics or EDs unless your symptoms become an issue as you don’t want to spread the disease beyond your home. Stock up on jello, G-Zero, plain decongestants like Mucinex, Bouillon or clear soups, lots of Kleenex and avoid solids and dairy products while you are symptomatic. The rest is just common sense.\n",
    "\n",
    "What are the symptoms of Coronavirus?\n",
    "The symptoms of this virus include high fever, respiratory problems, shortness of breath and coughing. In extreme cases, it can even lead to pneumonia, kidney failure and death.\n",
    "To prevent infection from spreading, one should wash hands regularly, cover mouth and nose while coughing and sneezing and eat properly cook meat and eggs.\"\"\""
   ]
  },
  {
   "cell_type": "code",
   "execution_count": null,
   "metadata": {},
   "outputs": [],
   "source": [
    "result=predictor.predict(\n",
    "  passage=passage,\n",
    "  question=\"how are coronavirus?\")\n",
    "result['best_span_str']\n"
   ]
  },
  {
   "cell_type": "code",
   "execution_count": null,
   "metadata": {},
   "outputs": [],
   "source": []
  }
 ],
 "metadata": {
  "celltoolbar": "Raw Cell Format",
  "kernelspec": {
   "display_name": "Python 3",
   "language": "python",
   "name": "python3"
  },
  "language_info": {
   "codemirror_mode": {
    "name": "ipython",
    "version": 3
   },
   "file_extension": ".py",
   "mimetype": "text/x-python",
   "name": "python",
   "nbconvert_exporter": "python",
   "pygments_lexer": "ipython3",
   "version": "3.7.6"
  }
 },
 "nbformat": 4,
 "nbformat_minor": 4
}
